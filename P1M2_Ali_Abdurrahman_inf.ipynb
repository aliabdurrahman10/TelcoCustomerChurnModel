{
 "cells": [
  {
   "cell_type": "code",
   "execution_count": 5,
   "id": "3fb3e90e",
   "metadata": {},
   "outputs": [],
   "source": [
    "# import\n",
    "import pickle\n",
    "import pandas as pd"
   ]
  },
  {
   "cell_type": "code",
   "execution_count": 6,
   "id": "0468db0b",
   "metadata": {},
   "outputs": [],
   "source": [
    "# === 1. Load model ===\n",
    "with open('model2_best.pkl', 'rb') as file_1:\n",
    "    model = pickle.load(file_1)"
   ]
  },
  {
   "cell_type": "code",
   "execution_count": null,
   "id": "a9744a6b",
   "metadata": {},
   "outputs": [],
   "source": [
    "# === 2. Siapkan data baru (contoh dummy) ===\n",
    "# Pastikan urutan kolom sama persis dengan training\n",
    "data_baru = pd.DataFrame([{\n",
    "    \"gender\": \"Male\",\n",
    "    \"SeniorCitizen\": 0,\n",
    "    \"Partner\": \"Yes\",\n",
    "    \"Dependents\": \"No\",\n",
    "    \"tenure\": 12,\n",
    "    \"PhoneService\": \"Yes\",\n",
    "    \"MultipleLines\": \"No\",\n",
    "    \"InternetService\": \"Fiber optic\",\n",
    "    \"OnlineSecurity\": \"No\",\n",
    "    \"OnlineBackup\": \"Yes\",\n",
    "    \"DeviceProtection\": \"Yes\",\n",
    "    \"TechSupport\": \"No\",\n",
    "    \"StreamingTV\": \"Yes\",\n",
    "    \"StreamingMovies\": \"No\",\n",
    "    \"Contract\": \"Month-to-month\",\n",
    "    \"PaperlessBilling\": \"Yes\",\n",
    "    \"PaymentMethod\": \"Electronic check\",\n",
    "    \"MonthlyCharges\": 70.35,\n",
    "    \"TotalCharges\": 850.50\n",
    "}])"
   ]
  },
  {
   "cell_type": "code",
   "execution_count": 8,
   "id": "eb9b6639",
   "metadata": {},
   "outputs": [
    {
     "name": "stdout",
     "output_type": "stream",
     "text": [
      "Prediksi kelas : Yes\n",
      "Probabilitas   : [0.23809524 0.76190476]\n"
     ]
    }
   ],
   "source": [
    "# === 3. Prediksi ===\n",
    "prediksi = model.predict(data_baru)\n",
    "proba = model.predict_proba(data_baru)\n",
    "\n",
    "print(\"Prediksi kelas :\", prediksi[0])\n",
    "print(\"Probabilitas   :\", proba[0])"
   ]
  }
 ],
 "metadata": {
  "kernelspec": {
   "display_name": "h8_env",
   "language": "python",
   "name": "python3"
  },
  "language_info": {
   "codemirror_mode": {
    "name": "ipython",
    "version": 3
   },
   "file_extension": ".py",
   "mimetype": "text/x-python",
   "name": "python",
   "nbconvert_exporter": "python",
   "pygments_lexer": "ipython3",
   "version": "3.9.23"
  }
 },
 "nbformat": 4,
 "nbformat_minor": 5
}
